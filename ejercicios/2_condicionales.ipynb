{
 "cells": [
  {
   "cell_type": "markdown",
   "metadata": {},
   "source": [
    "# Ejercicios: Estructura condicional"
   ]
  },
  {
   "cell_type": "markdown",
   "metadata": {},
   "source": [
    "### Ejercicio 1\n",
    "Escribir un programa que pregunte al usuario su edad y muestre por pantalla si es mayor de edad o no."
   ]
  },
  {
   "cell_type": "code",
   "execution_count": 3,
   "metadata": {},
   "outputs": [
    {
     "name": "stdout",
     "output_type": "stream",
     "text": [
      "Eres mayor de edad\n"
     ]
    }
   ],
   "source": [
    "# Solución\n",
    "edad = int(input(\"Ingresa tu edad: \"))\n",
    "if(edad >= 18):\n",
    "    print(\"Eres mayor de edad\")\n",
    "else:\n",
    "    print(\"Eres menor de edad\")"
   ]
  },
  {
   "cell_type": "markdown",
   "metadata": {},
   "source": [
    "### Ejercicio 2\n",
    "Escribir un programa que almacene una <span style=\"color:#66D9EF\">contraseña</span> en una variable, pregunte al usuario por la <span style=\"color:#66D9EF\">contraseña</span> e imprima por pantalla si la <span style=\"color:#66D9EF\">contraseña</span> introducida por el usuario coincide con la guardada en la variable sin tener en cuenta mayúsculas y minúsculas."
   ]
  },
  {
   "cell_type": "code",
   "execution_count": 6,
   "metadata": {},
   "outputs": [
    {
     "name": "stdout",
     "output_type": "stream",
     "text": [
      "hola\n"
     ]
    }
   ],
   "source": [
    "# Solución\n",
    "contraseña = \"hola\"\n",
    "contraseñaUser= input(\"Ingresa tu contraseña: \")\n",
    "if(contraseña.lower() == contraseñaUser.lower()):\n",
    "    print(contraseña)\n",
    "else:\n",
    "    print(\"La contraseña es incorrecta\")"
   ]
  },
  {
   "cell_type": "markdown",
   "metadata": {},
   "source": [
    "### Ejercicio 3\n",
    "Escribir un programa que pida al usuario dos números y muestre por pantalla su división. Si el divisor es cero el programa debe mostrar un error."
   ]
  },
  {
   "cell_type": "code",
   "execution_count": 10,
   "metadata": {},
   "outputs": [
    {
     "name": "stdout",
     "output_type": "stream",
     "text": [
      "Error... no se puede dividir 0 entre 2\n"
     ]
    }
   ],
   "source": [
    "# Solución\n",
    "divisor = int(input(\"Ingresa el  número divisor: \"))\n",
    "dividendo = int(input(\"Ingresa el  número dividendo: \"))\n",
    "if(divisor == 0):\n",
    "    print(\"Error... no se puede dividir 0 entre\" , dividendo)\n",
    "else:\n",
    "    res = float(divisor/dividendo)\n",
    "    print(divisor,\"/\",dividendo,\" = \",res)\n"
   ]
  },
  {
   "cell_type": "markdown",
   "metadata": {},
   "source": [
    "### Ejercicio 4\n",
    "Escribir un programa que pida al usuario un número entero y muestre por pantalla si es par o impar."
   ]
  },
  {
   "cell_type": "code",
   "execution_count": 12,
   "metadata": {},
   "outputs": [
    {
     "name": "stdout",
     "output_type": "stream",
     "text": [
      "El número  8  es Par.\n"
     ]
    }
   ],
   "source": [
    "# Solución\n",
    "num = int(input(\"Ingresa un número entero: \"))\n",
    "if (num % 2 == 0):\n",
    "    print(\"El número \", num ,\" es Par.\")\n",
    "else:\n",
    "    print(\"El número \", num ,\" es Impar.\")\n"
   ]
  },
  {
   "cell_type": "markdown",
   "metadata": {},
   "source": [
    "### Ejercicio 5\n",
    "Para pagar un determinado impuesto se debe ser mayor de 16 años y tener unos ingresos iguales o superiores a $5000 mensuales. Escribir un programa que pregunte al usuario su edad y sus ingresos mensuales y muestre por pantalla si el usuario tiene que pagar o no."
   ]
  },
  {
   "cell_type": "code",
   "execution_count": 14,
   "metadata": {},
   "outputs": [
    {
     "name": "stdout",
     "output_type": "stream",
     "text": [
      "Usted no paga impuestos, gracias!!!\n"
     ]
    }
   ],
   "source": [
    "# Solución\n",
    "edad = int(input(\"Ingresa tu edad: \"))\n",
    "ingresoMes = float(input(\"Ingresa tu ingreso mensual: \"))\n",
    "if(edad > 16 and ingresoMes >= 5000):\n",
    "    print(\"Usted esta en la obligación de pagar impuestos!!!\")\n",
    "else:\n",
    "    print(\"Usted no paga impuestos, gracias!!!\")\n"
   ]
  },
  {
   "cell_type": "markdown",
   "metadata": {},
   "source": [
    "### Ejercicio 6\n",
    "Los alumnos de un curso se han dividido en dos grupos A y B de acuerdo al sexo y el nombre. El grupo A esta formado por las mujeres con un nombre anterior a la M y los hombres con un nombre posterior a la N y el grupo B por el resto. Escribir un programa que pregunte al usuario su nombre y sexo, y muestre por pantalla el grupo que le corresponde."
   ]
  },
  {
   "cell_type": "code",
   "execution_count": 16,
   "metadata": {},
   "outputs": [
    {
     "name": "stdout",
     "output_type": "stream",
     "text": [
      "Pertenes al grupo A.\n"
     ]
    }
   ],
   "source": [
    "# Solución\n",
    "nombre = input(\"Ingresa tu nombre: \")\n",
    "sexoMH = input(\"Ingresa tu sexo: \")\n",
    "\n",
    "if((nombre[0]<'M' and sexoMH==\"M\") or (nombre[0]>'N' and sexoMH==\"H\")):\n",
    "    print(\"Pertenes al grupo A.\")\n",
    "else:\n",
    "    print(\"Perteneces al grupo B.\")"
   ]
  },
  {
   "cell_type": "markdown",
   "metadata": {},
   "source": []
  },
  {
   "cell_type": "markdown",
   "metadata": {},
   "source": [
    "### Ejercicio 7\n",
    "En una determinada empresa, sus empleados son evaluados al final de cada año. Los puntos que pueden obtener en la evaluación comienzan en 0.0 y pueden ir aumentando, traduciéndose en mejores beneficios. Los puntos que pueden conseguir los empleados pueden ser 0.0, 0.4, 0.6 o más, pero no valores intermedios entre las cifras mencionadas. A continuación se muestra una tabla con los niveles correspondientes a cada puntuación. La cantidad de dinero conseguida en cada nivel es de $2,400 multiplicada por la puntuación del nivel.\n",
    "\n",
    "<center>\n",
    "|Nivel|Puntuación| \n",
    "|:-:|:-:| \n",
    "|Inaceptable|0.0| \n",
    "|Aceptable|0.4| \n",
    "|Meritorio|0.6 o más|\n",
    "</center>\n",
    "\n",
    "Escribir un programa que lea la puntuación del usuario e indique su nivel de rendimiento, así como la cantidad de dinero que recibirá el usuario."
   ]
  },
  {
   "cell_type": "code",
   "execution_count": 1,
   "metadata": {},
   "outputs": [
    {
     "name": "stdout",
     "output_type": "stream",
     "text": [
      "Inaceptable\n",
      "cantidad de dinero a recibir: $ 0.0\n"
     ]
    }
   ],
   "source": [
    "# Solución\n",
    "puntuacion = float(input(\"Ingresa tu puntuación: \"))\n",
    "bonificacion = puntuacion*2400\n",
    "if(puntuacion == 0.0):\n",
    "    print(\"Inaceptable\")\n",
    "    print(\"cantidad de dinero a recibir: $\",bonificacion)\n",
    "elif(puntuacion>0.0 and puntuacion <=0.4):\n",
    "    print(\"Aceptable\")\n",
    "    print(\"cantidad de dinero a recibir: $\",bonificacion)\n",
    "elif(puntuacion>=0.6):\n",
    "    print(\"Meritorio\")\n",
    "    print(\"cantidad de dinero a recibir: $\",bonificacion)\n",
    "else:\n",
    "    print(\"El nivel de puntuacion agregado no es VALIDO.\")\n"
   ]
  },
  {
   "cell_type": "markdown",
   "metadata": {},
   "source": []
  },
  {
   "cell_type": "markdown",
   "metadata": {},
   "source": [
    "### Ejercicio 8\n",
    "Escribir un programa para una empresa que tiene salas de juegos para todas las edades y quiere calcular de forma automática el precio que debe cobrar a sus clientes por entrar. El programa debe preguntar al usuario la edad del cliente y mostrar el precio de la entrada. Si el cliente es menor de 4 años puede entrar gratis, si tiene entre 4 y 18 años debe pagar $5 y si es mayor de 18 años, $10."
   ]
  },
  {
   "cell_type": "code",
   "execution_count": 4,
   "metadata": {},
   "outputs": [
    {
     "name": "stdout",
     "output_type": "stream",
     "text": [
      "Pagar $10.00\n"
     ]
    }
   ],
   "source": [
    "# Solución\n",
    "edad = int(input(\"Ingresa tu edad: \"))\n",
    "\n",
    "if(edad < 4):\n",
    "    print(\"Entrada Gratis!!!\")\n",
    "elif(edad>=4 and edad<19):\n",
    "    print(\"Pagar $5.00\")\n",
    "else:\n",
    "    print(\"Pagar $10.00\")"
   ]
  },
  {
   "cell_type": "markdown",
   "metadata": {},
   "source": [
    "### Ejercicio 9\n",
    "La pizzería Planeta ofrece pizzas vegetarianas y no vegetarianas a sus clientes. Los ingredientes para cada tipo de pizza aparecen a continuación.  \n",
    "\n",
    "* Vegetarianos: Pimiento y tofu.  \n",
    "* No vegetarianos: Peperoni, Jamón y Salmón.  \n",
    "\n",
    "Escribir un programa que pregunte al usuario si quiere una pizza vegetariana o no, y en función de su respuesta le muestre un menú con los ingredientes disponibles para que elija. Solo se puede eligir un ingrediente además de la mozzarella y el tomate que están en todas la pizzas. Al final se debe mostrar por pantalla si la pizza elegida es vegetariana o no y todos los ingredientes que lleva.\n",
    "\n",
    "\n"
   ]
  },
  {
   "cell_type": "code",
   "execution_count": 8,
   "metadata": {},
   "outputs": [
    {
     "name": "stdout",
     "output_type": "stream",
     "text": [
      "Ingresa el numero correcto solo se acepta 0 y 1\n"
     ]
    }
   ],
   "source": [
    "# Solución\n",
    "pizza = int(input(\"Ingresa 0:Pizza Vegetariana 1:Pizza No Vegetariana\"))\n",
    "\n",
    "if(pizza == 1):\n",
    "    ingredientes = int(input(\"Ingresa el ingrediente de tu preferencia 0:Peperoni 1:Jamón y Salmón\"))\n",
    "    if(ingredientes == 1):\n",
    "        print(\"tu pizza elegida es NO VEGETARIANA, con ingrediente JAMÓN Y SALMON\")\n",
    "    elif(ingredientes == 0):\n",
    "        print(\"tu pizza eleguda es NO VEGETARIANA, con ingrediente PEPERONI\")\n",
    "    else:\n",
    "        print(\"Ingresa el numero correcto solo se acepta 0 y 1\")\n",
    "elif(pizza == 0):\n",
    "    ingredientes = int(input(\"Ingresa el ingrediente de tu preferencia 0:Pimiento 1:Tofu\"))\n",
    "    if(ingredientes == 1):\n",
    "        print(\"tu pizza elegida es VEGETARIANA, con ingrediente TOFU\")\n",
    "    elif(ingredientes == 0):\n",
    "        print(\"tu pizza eleguda VEGETARIANA, con ingrediente PIMIENTO\")\n",
    "    else:\n",
    "        print(\"Ingresa el numero correcto solo se acepta 0 y 1\")\n",
    "else:\n",
    "    print(\"Ingresa el numero correcto solo se acepta 0 y 1\")\n",
    "    "
   ]
  }
 ],
 "metadata": {
  "kernelspec": {
   "display_name": "Python 3.10.5 64-bit (system)",
   "language": "python",
   "name": "python3"
  },
  "language_info": {
   "codemirror_mode": {
    "name": "ipython",
    "version": 3
   },
   "file_extension": ".py",
   "mimetype": "text/x-python",
   "name": "python",
   "nbconvert_exporter": "python",
   "pygments_lexer": "ipython3",
   "version": "3.10.5"
  },
  "orig_nbformat": 4,
  "vscode": {
   "interpreter": {
    "hash": "77abe205c72c096294b3a4a26264acecc5dbf8fb16ba6ed375b92e4d65784221"
   }
  }
 },
 "nbformat": 4,
 "nbformat_minor": 2
}
