{
 "cells": [
  {
   "cell_type": "markdown",
   "metadata": {},
   "source": [
    "# Ejercicios: Estructuras iterativas\n",
    "\n"
   ]
  },
  {
   "cell_type": "markdown",
   "metadata": {},
   "source": [
    "### Ejercicio 1\n",
    "Calcular la media de los números pares e impares, sólo se ingresará diez números."
   ]
  },
  {
   "cell_type": "code",
   "execution_count": 21,
   "metadata": {},
   "outputs": [
    {
     "name": "stdout",
     "output_type": "stream",
     "text": [
      "Promedio par =  2.0\n",
      "Promedio impar =  1.0\n"
     ]
    }
   ],
   "source": [
    "# Solución\n",
    "sumaPar = 0\n",
    "sumaImpar=0\n",
    "contPar=0\n",
    "contImpar = 0\n",
    "for i in range(10):\n",
    "    numero = int(input(f'''ingresa un número {i+1}'''))\n",
    "    if(numero % 2 == 0):\n",
    "        sumaPar = sumaPar + numero\n",
    "        contPar+=1\n",
    "    else:\n",
    "        sumaImpar = sumaImpar + numero\n",
    "        contImpar+=1\n",
    "\n",
    "if(contPar==0):\n",
    "    print(\"Error no se tiene ningun numero PAR para obtener el promedio \")\n",
    "    promedioImpar = sumaPar/contPar\n",
    "    print(f'''Promedio par =  {promedioImpar}''')\n",
    "elif(contImpar==0):\n",
    "    print(\"Error no se tiene ningun numero IMPAR para obtener el promedio \")\n",
    "    promedioPar = sumaPar/contPar\n",
    "    print(f'''Promedio impar = {promedioPar}''')\n",
    "else:\n",
    "    promedioPar = sumaPar/contPar\n",
    "    print(f'''Promedio par =  {promedioPar}''')\n",
    "    promedioImpar = sumaImpar/contImpar\n",
    "    print(f'''Promedio impar =  {promedioImpar}''')\n"
   ]
  },
  {
   "cell_type": "markdown",
   "metadata": {},
   "source": [
    "### Ejercicio 2\n",
    "Calcular la suma de los n primeros números."
   ]
  },
  {
   "cell_type": "code",
   "execution_count": 26,
   "metadata": {},
   "outputs": [
    {
     "name": "stdout",
     "output_type": "stream",
     "text": [
      "1\n",
      "2\n",
      "La suma de los 2 numeros es = 3\n"
     ]
    }
   ],
   "source": [
    "# Solución\n",
    "suma = 0\n",
    "numero = 0\n",
    "cantidadN = int(input(\"Ingresa la cantidad de numeros ENTEROS a Sumar: \"))\n",
    "\n",
    "for i in range(cantidadN):\n",
    "    numero = int(input(f''' Ingresa el {i+1}° numero'''))\n",
    "    suma = suma+numero\n",
    "    print(numero)\n",
    "\n",
    "print(f'''La suma de los {cantidadN} numeros es = {suma}''')"
   ]
  },
  {
   "cell_type": "markdown",
   "metadata": {},
   "source": [
    "### Ejercicio 3\n",
    "Se quiere saber cuál es la ciudad con la población de más personas, son tres estados  con once ciudades, hacer un algoritmo que nos permita saber eso."
   ]
  },
  {
   "cell_type": "code",
   "execution_count": 38,
   "metadata": {},
   "outputs": [
    {
     "name": "stdout",
     "output_type": "stream",
     "text": [
      "El estado C con numero de ciudad 5 tiene un total de mayor pobación 999\n"
     ]
    }
   ],
   "source": [
    "# Solución\n",
    "estados = 3\n",
    "ciudades = 11\n",
    "estMax = 0\n",
    "pobMax = 0\n",
    "poblacion = 0\n",
    "\n",
    "for estados in range(1, 4):\n",
    "    if(estados == 1):\n",
    "        estado = \"A\"\n",
    "    elif(estados == 2):\n",
    "        estado = \"B\"\n",
    "    else:\n",
    "        estado = \"C\"\n",
    "    for ciudades in range(1, 12):\n",
    "        poblacion = int(input(f'''Ingresa la cantidad de poblacion del estado {estados} y ciudad numero {ciudades}'''))\n",
    "        if(poblacion > pobMax):\n",
    "            pobMax = poblacion\n",
    "            ciuMax = ciudades\n",
    "            estMax = estado\n",
    "                \n",
    "print(f'''El estado {estMax} con numero de ciudad {ciuMax} tiene un total de mayor población {pobMax}''' )\n",
    "                "
   ]
  },
  {
   "cell_type": "markdown",
   "metadata": {},
   "source": [
    "### Ejercicio 4\n",
    "Imprimir las tablas de multiplicar de los números del uno al nueve."
   ]
  },
  {
   "cell_type": "code",
   "execution_count": null,
   "metadata": {},
   "outputs": [],
   "source": [
    "# Solución\n",
    "\n",
    "multiplicando = 9\n",
    "multiplicador = 9\n",
    "\n",
    "for multiplicando in range(1,10):\n",
    "    for miltiplicador in range"
   ]
  },
  {
   "cell_type": "markdown",
   "metadata": {},
   "source": [
    "### Ejercicio 5\n",
    "Calcular el factorial de un número."
   ]
  },
  {
   "cell_type": "code",
   "execution_count": null,
   "metadata": {},
   "outputs": [],
   "source": [
    "# Solución"
   ]
  },
  {
   "cell_type": "markdown",
   "metadata": {},
   "source": [
    "### Ejercicio 6\n",
    "Hacer un algoritmo que nos diga si un número es primo."
   ]
  },
  {
   "cell_type": "code",
   "execution_count": null,
   "metadata": {},
   "outputs": [],
   "source": [
    "# Solución"
   ]
  },
  {
   "cell_type": "markdown",
   "metadata": {},
   "source": [
    "### Ejercicio 7\n",
    "Hacer un algoritmo que nos imprima los números primos en el rango [2,N]."
   ]
  },
  {
   "cell_type": "code",
   "execution_count": null,
   "metadata": {},
   "outputs": [],
   "source": [
    "# Solución"
   ]
  },
  {
   "cell_type": "markdown",
   "metadata": {},
   "source": [
    "### Ejercicio 8\n",
    "Hacer un algoritmo que nos permita saber cuál es el número mayor y menor, se debe ingresar sólo veinte números."
   ]
  },
  {
   "cell_type": "code",
   "execution_count": null,
   "metadata": {},
   "outputs": [],
   "source": [
    "# Solución"
   ]
  },
  {
   "cell_type": "markdown",
   "metadata": {},
   "source": [
    "### Ejercicio 9\n",
    "Hacer un algoritmo para calcular la serie de Fibonacci."
   ]
  },
  {
   "cell_type": "code",
   "execution_count": null,
   "metadata": {},
   "outputs": [],
   "source": [
    "# Solución"
   ]
  },
  {
   "cell_type": "markdown",
   "metadata": {},
   "source": [
    "### Ejercicio 10\n",
    "Hacer un algoritmo para conseguir el M.C.D de un número por medio del algoritmo de Euclides."
   ]
  },
  {
   "cell_type": "code",
   "execution_count": null,
   "metadata": {},
   "outputs": [],
   "source": [
    "# Solución"
   ]
  }
 ],
 "metadata": {
  "kernelspec": {
   "display_name": "Python 3.10.5 64-bit (system)",
   "language": "python",
   "name": "python3"
  },
  "language_info": {
   "codemirror_mode": {
    "name": "ipython",
    "version": 3
   },
   "file_extension": ".py",
   "mimetype": "text/x-python",
   "name": "python",
   "nbconvert_exporter": "python",
   "pygments_lexer": "ipython3",
   "version": "3.10.5"
  },
  "orig_nbformat": 4,
  "vscode": {
   "interpreter": {
    "hash": "77abe205c72c096294b3a4a26264acecc5dbf8fb16ba6ed375b92e4d65784221"
   }
  }
 },
 "nbformat": 4,
 "nbformat_minor": 2
}
